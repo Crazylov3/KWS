{
 "cells": [
  {
   "cell_type": "code",
   "execution_count": 1,
   "metadata": {
    "pycharm": {
     "name": "#%%\n"
    }
   },
   "outputs": [],
   "source": [
    "%matplotlib tk"
   ]
  },
  {
   "cell_type": "code",
   "execution_count": 2,
   "metadata": {
    "pycharm": {
     "name": "#%%\n"
    }
   },
   "outputs": [
    {
     "ename": "TclError",
     "evalue": "",
     "output_type": "error",
     "traceback": [
      "\u001B[1;31m---------------------------------------------------------------------------\u001B[0m",
      "\u001B[1;31mTclError\u001B[0m                                  Traceback (most recent call last)",
      "\u001B[1;32m~\\AppData\\Local\\Programs\\Python\\Python39\\lib\\site-packages\\matplotlib\\backends\\_backend_tk.py\u001B[0m in \u001B[0;36mblit\u001B[1;34m(photoimage, aggimage, offsets, bbox)\u001B[0m\n\u001B[0;32m    112\u001B[0m     \u001B[1;32mtry\u001B[0m\u001B[1;33m:\u001B[0m\u001B[1;33m\u001B[0m\u001B[1;33m\u001B[0m\u001B[0m\n\u001B[1;32m--> 113\u001B[1;33m         \u001B[0mphotoimage\u001B[0m\u001B[1;33m.\u001B[0m\u001B[0mtk\u001B[0m\u001B[1;33m.\u001B[0m\u001B[0mcall\u001B[0m\u001B[1;33m(\u001B[0m\u001B[0m_blit_tcl_name\u001B[0m\u001B[1;33m,\u001B[0m \u001B[0margsid\u001B[0m\u001B[1;33m)\u001B[0m\u001B[1;33m\u001B[0m\u001B[1;33m\u001B[0m\u001B[0m\n\u001B[0m\u001B[0;32m    114\u001B[0m     \u001B[1;32mexcept\u001B[0m \u001B[0mtk\u001B[0m\u001B[1;33m.\u001B[0m\u001B[0mTclError\u001B[0m \u001B[1;32mas\u001B[0m \u001B[0me\u001B[0m\u001B[1;33m:\u001B[0m\u001B[1;33m\u001B[0m\u001B[1;33m\u001B[0m\u001B[0m\n",
      "\u001B[1;31mTclError\u001B[0m: invalid command name \"pyimage10\"",
      "\nDuring handling of the above exception, another exception occurred:\n",
      "\u001B[1;31mTclError\u001B[0m                                  Traceback (most recent call last)",
      "\u001B[1;32m~\\AppData\\Local\\Temp/ipykernel_14156/1879663815.py\u001B[0m in \u001B[0;36m<module>\u001B[1;34m\u001B[0m\n\u001B[0;32m     78\u001B[0m         \u001B[0mplot_prob\u001B[0m\u001B[1;33m.\u001B[0m\u001B[0mget\u001B[0m\u001B[1;33m(\u001B[0m\u001B[1;33m)\u001B[0m\u001B[1;33m\u001B[0m\u001B[1;33m\u001B[0m\u001B[0m\n\u001B[0;32m     79\u001B[0m         \u001B[0mline\u001B[0m\u001B[1;33m.\u001B[0m\u001B[0mset_ydata\u001B[0m\u001B[1;33m(\u001B[0m\u001B[0mlist\u001B[0m\u001B[1;33m(\u001B[0m\u001B[0mplot_prob\u001B[0m\u001B[1;33m.\u001B[0m\u001B[0mqueue\u001B[0m\u001B[1;33m)\u001B[0m\u001B[1;33m)\u001B[0m\u001B[1;33m\u001B[0m\u001B[1;33m\u001B[0m\u001B[0m\n\u001B[1;32m---> 80\u001B[1;33m         \u001B[0mfig\u001B[0m\u001B[1;33m.\u001B[0m\u001B[0mcanvas\u001B[0m\u001B[1;33m.\u001B[0m\u001B[0mdraw\u001B[0m\u001B[1;33m(\u001B[0m\u001B[1;33m)\u001B[0m\u001B[1;33m\u001B[0m\u001B[1;33m\u001B[0m\u001B[0m\n\u001B[0m\u001B[0;32m     81\u001B[0m         \u001B[0mfig\u001B[0m\u001B[1;33m.\u001B[0m\u001B[0mcanvas\u001B[0m\u001B[1;33m.\u001B[0m\u001B[0mflush_events\u001B[0m\u001B[1;33m(\u001B[0m\u001B[1;33m)\u001B[0m\u001B[1;33m\u001B[0m\u001B[1;33m\u001B[0m\u001B[0m\n\u001B[0;32m     82\u001B[0m         \u001B[0mplt\u001B[0m\u001B[1;33m.\u001B[0m\u001B[0mshow\u001B[0m\u001B[1;33m(\u001B[0m\u001B[1;33m)\u001B[0m\u001B[1;33m\u001B[0m\u001B[1;33m\u001B[0m\u001B[0m\n",
      "\u001B[1;32m~\\AppData\\Local\\Programs\\Python\\Python39\\lib\\site-packages\\matplotlib\\backends\\backend_tkagg.py\u001B[0m in \u001B[0;36mdraw\u001B[1;34m(self)\u001B[0m\n\u001B[0;32m      8\u001B[0m     \u001B[1;32mdef\u001B[0m \u001B[0mdraw\u001B[0m\u001B[1;33m(\u001B[0m\u001B[0mself\u001B[0m\u001B[1;33m)\u001B[0m\u001B[1;33m:\u001B[0m\u001B[1;33m\u001B[0m\u001B[1;33m\u001B[0m\u001B[0m\n\u001B[0;32m      9\u001B[0m         \u001B[0msuper\u001B[0m\u001B[1;33m(\u001B[0m\u001B[1;33m)\u001B[0m\u001B[1;33m.\u001B[0m\u001B[0mdraw\u001B[0m\u001B[1;33m(\u001B[0m\u001B[1;33m)\u001B[0m\u001B[1;33m\u001B[0m\u001B[1;33m\u001B[0m\u001B[0m\n\u001B[1;32m---> 10\u001B[1;33m         \u001B[0mself\u001B[0m\u001B[1;33m.\u001B[0m\u001B[0mblit\u001B[0m\u001B[1;33m(\u001B[0m\u001B[1;33m)\u001B[0m\u001B[1;33m\u001B[0m\u001B[1;33m\u001B[0m\u001B[0m\n\u001B[0m\u001B[0;32m     11\u001B[0m \u001B[1;33m\u001B[0m\u001B[0m\n\u001B[0;32m     12\u001B[0m     \u001B[1;32mdef\u001B[0m \u001B[0mblit\u001B[0m\u001B[1;33m(\u001B[0m\u001B[0mself\u001B[0m\u001B[1;33m,\u001B[0m \u001B[0mbbox\u001B[0m\u001B[1;33m=\u001B[0m\u001B[1;32mNone\u001B[0m\u001B[1;33m)\u001B[0m\u001B[1;33m:\u001B[0m\u001B[1;33m\u001B[0m\u001B[1;33m\u001B[0m\u001B[0m\n",
      "\u001B[1;32m~\\AppData\\Local\\Programs\\Python\\Python39\\lib\\site-packages\\matplotlib\\backends\\backend_tkagg.py\u001B[0m in \u001B[0;36mblit\u001B[1;34m(self, bbox)\u001B[0m\n\u001B[0;32m     11\u001B[0m \u001B[1;33m\u001B[0m\u001B[0m\n\u001B[0;32m     12\u001B[0m     \u001B[1;32mdef\u001B[0m \u001B[0mblit\u001B[0m\u001B[1;33m(\u001B[0m\u001B[0mself\u001B[0m\u001B[1;33m,\u001B[0m \u001B[0mbbox\u001B[0m\u001B[1;33m=\u001B[0m\u001B[1;32mNone\u001B[0m\u001B[1;33m)\u001B[0m\u001B[1;33m:\u001B[0m\u001B[1;33m\u001B[0m\u001B[1;33m\u001B[0m\u001B[0m\n\u001B[1;32m---> 13\u001B[1;33m         _backend_tk.blit(self._tkphoto, self.renderer.buffer_rgba(),\n\u001B[0m\u001B[0;32m     14\u001B[0m                          (0, 1, 2, 3), bbox=bbox)\n\u001B[0;32m     15\u001B[0m \u001B[1;33m\u001B[0m\u001B[0m\n",
      "\u001B[1;32m~\\AppData\\Local\\Programs\\Python\\Python39\\lib\\site-packages\\matplotlib\\backends\\_backend_tk.py\u001B[0m in \u001B[0;36mblit\u001B[1;34m(photoimage, aggimage, offsets, bbox)\u001B[0m\n\u001B[0;32m    116\u001B[0m             \u001B[1;32mraise\u001B[0m\u001B[1;33m\u001B[0m\u001B[1;33m\u001B[0m\u001B[0m\n\u001B[0;32m    117\u001B[0m         \u001B[0mphotoimage\u001B[0m\u001B[1;33m.\u001B[0m\u001B[0mtk\u001B[0m\u001B[1;33m.\u001B[0m\u001B[0mcreatecommand\u001B[0m\u001B[1;33m(\u001B[0m\u001B[0m_blit_tcl_name\u001B[0m\u001B[1;33m,\u001B[0m \u001B[0m_blit\u001B[0m\u001B[1;33m)\u001B[0m\u001B[1;33m\u001B[0m\u001B[1;33m\u001B[0m\u001B[0m\n\u001B[1;32m--> 118\u001B[1;33m         \u001B[0mphotoimage\u001B[0m\u001B[1;33m.\u001B[0m\u001B[0mtk\u001B[0m\u001B[1;33m.\u001B[0m\u001B[0mcall\u001B[0m\u001B[1;33m(\u001B[0m\u001B[0m_blit_tcl_name\u001B[0m\u001B[1;33m,\u001B[0m \u001B[0margsid\u001B[0m\u001B[1;33m)\u001B[0m\u001B[1;33m\u001B[0m\u001B[1;33m\u001B[0m\u001B[0m\n\u001B[0m\u001B[0;32m    119\u001B[0m \u001B[1;33m\u001B[0m\u001B[0m\n\u001B[0;32m    120\u001B[0m \u001B[1;33m\u001B[0m\u001B[0m\n",
      "\u001B[1;31mTclError\u001B[0m: "
     ]
    }
   ],
   "source": [
    "import numpy as np\n",
    "import torch\n",
    "import matplotlib.pyplot as plt\n",
    "from models.model import BcResNetModel\n",
    "from utils.generals import trigger_word_detect, convet2logmel\n",
    "import pyaudio\n",
    "from queue import Queue\n",
    "import time\n",
    "\n",
    "\n",
    "def callback(in_data, frame_count, time_info, status):\n",
    "    global run, feed_samples, q, data\n",
    "    data0 = np.frombuffer(in_data, dtype='float32')\n",
    "    data = np.append(data, data0)\n",
    "    if len(data) > feed_samples:\n",
    "        data = data[-feed_samples:]\n",
    "        q.put(data)\n",
    "    return in_data, pyaudio.paContinue\n",
    "\n",
    "\n",
    "model = BcResNetModel(n_class=2, scale=1.5, dropout=0.1)\n",
    "device = \"cuda\" if torch.cuda.is_available() else \"cpu\"\n",
    "model = torch.nn.DataParallel(model).to(device)\n",
    "ckpt = torch.load(r\"D:\\LTGiang\\Intership\\RikkeiAI\\BC_ResNet_from_scratch\\runs\\KWSexp2\\checkpoint_best.pth.taz\", map_location=device)\n",
    "model.load_state_dict(ckpt[\"model\"])\n",
    "model.eval()\n",
    "\n",
    "chunk_duration = 0.1\n",
    "fs = 8000\n",
    "chunk_samples = int(fs * chunk_duration)\n",
    "feed_duration = 1.5\n",
    "feed_samples = int(fs * feed_duration)\n",
    "\n",
    "assert feed_duration / chunk_duration == int(feed_duration / chunk_duration)\n",
    "\n",
    "q = Queue()\n",
    "\n",
    "plot_prob = Queue()\n",
    "for i in range(50):\n",
    "    plot_prob.put(0.0)\n",
    "\n",
    "run = True\n",
    "timeout = time.time() + 3 * 60\n",
    "data = np.zeros(feed_samples, dtype='float32')\n",
    "\n",
    "fig, ax = plt.subplots(1, figsize=(15, 7))\n",
    "ax.set_title('Trigger word simulation')\n",
    "ax.set_xlabel('Time-line')\n",
    "ax.set_ylabel('Probability')\n",
    "ax.set_ylim(0, 1.0)\n",
    "stream = pyaudio.PyAudio().open(\n",
    "    format=pyaudio.paFloat32,\n",
    "    channels=1,\n",
    "    rate=fs,\n",
    "    input=True,\n",
    "    frames_per_buffer=chunk_samples,\n",
    "    input_device_index=0,\n",
    "    stream_callback=callback\n",
    ")\n",
    "line, = ax.plot(range(plot_prob.qsize()), list(plot_prob.queue), '-', lw=2)\n",
    "ax.plot(range(plot_prob.qsize()), [0.5 for _ in range(plot_prob.qsize())])\n",
    "ax.plot(range(plot_prob.qsize()), [1 for _ in range(plot_prob.qsize())])\n",
    "stream.start_stream()\n",
    "last = time.time()\n",
    "try:\n",
    "    while True:\n",
    "        data = torch.from_numpy(q.get().reshape(1, -1))\n",
    "        spectrum = convet2logmel(data, fs).unsqueeze(0)\n",
    "        preds, prob = trigger_word_detect(model, spectrum, device)\n",
    "        if preds:\n",
    "            if time.time() - last >= 2:\n",
    "                last = time.time()\n",
    "                plot_prob.put(prob)\n",
    "            else:\n",
    "                plot_prob.put(0.0)\n",
    "        else:\n",
    "            plot_prob.put(prob)\n",
    "        plot_prob.get()\n",
    "        line.set_ydata(list(plot_prob.queue))\n",
    "        fig.canvas.draw()\n",
    "        fig.canvas.flush_events()\n",
    "        plt.show()\n",
    "        if preds:\n",
    "            if time.time() - last == 2:\n",
    "                last = time.time()\n",
    "                # pass\n",
    "\n",
    "except (KeyboardInterrupt, SystemExit):\n",
    "    stream.stop_stream()\n",
    "    stream.close()\n",
    "    run = False\n"
   ]
  },
  {
   "cell_type": "code",
   "execution_count": null,
   "metadata": {},
   "outputs": [],
   "source": []
  }
 ],
 "metadata": {
  "kernelspec": {
   "display_name": "Python 3 (ipykernel)",
   "language": "python",
   "name": "python3"
  },
  "language_info": {
   "codemirror_mode": {
    "name": "ipython",
    "version": 3
   },
   "file_extension": ".py",
   "mimetype": "text/x-python",
   "name": "python",
   "nbconvert_exporter": "python",
   "pygments_lexer": "ipython3",
   "version": "3.9.7"
  }
 },
 "nbformat": 4,
 "nbformat_minor": 2
}