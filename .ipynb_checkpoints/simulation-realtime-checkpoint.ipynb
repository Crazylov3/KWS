{
 "cells": [
  {
   "cell_type": "code",
   "execution_count": 1,
   "metadata": {
    "pycharm": {
     "name": "#%%\n"
    }
   },
   "outputs": [],
   "source": [
    "%matplotlib tk"
   ]
  },
  {
   "cell_type": "code",
   "execution_count": null,
   "metadata": {
    "pycharm": {
     "name": "#%%\n"
    }
   },
   "outputs": [
    {
     "ename": "UnboundLocalError",
     "evalue": "local variable 'data' referenced before assignment",
     "output_type": "error",
     "traceback": [
      "\u001b[1;31m---------------------------------------------------------------------------\u001b[0m",
      "\u001b[1;31mUnboundLocalError\u001b[0m                         Traceback (most recent call last)",
      "\u001b[1;32m~\\AppData\\Local\\Temp/ipykernel_3768/4206236643.py\u001b[0m in \u001b[0;36mcallback\u001b[1;34m(in_data, frame_count, time_info, status)\u001b[0m\n\u001b[0;32m     12\u001b[0m     \u001b[1;32mglobal\u001b[0m \u001b[0mrun\u001b[0m\u001b[1;33m,\u001b[0m \u001b[0mfeed_samples\u001b[0m\u001b[1;33m,\u001b[0m \u001b[0mq\u001b[0m\u001b[1;33m,\u001b[0m \u001b[0mfs\u001b[0m\u001b[1;33m\u001b[0m\u001b[1;33m\u001b[0m\u001b[0m\n\u001b[0;32m     13\u001b[0m     \u001b[0mdata0\u001b[0m \u001b[1;33m=\u001b[0m \u001b[0mnp\u001b[0m\u001b[1;33m.\u001b[0m\u001b[0mfrombuffer\u001b[0m\u001b[1;33m(\u001b[0m\u001b[0min_data\u001b[0m\u001b[1;33m,\u001b[0m \u001b[0mdtype\u001b[0m\u001b[1;33m=\u001b[0m\u001b[1;34m'float32'\u001b[0m\u001b[1;33m)\u001b[0m\u001b[1;33m\u001b[0m\u001b[1;33m\u001b[0m\u001b[0m\n\u001b[1;32m---> 14\u001b[1;33m     \u001b[0mdata\u001b[0m \u001b[1;33m=\u001b[0m \u001b[0mnp\u001b[0m\u001b[1;33m.\u001b[0m\u001b[0mappend\u001b[0m\u001b[1;33m(\u001b[0m\u001b[0mdata\u001b[0m\u001b[1;33m,\u001b[0m \u001b[0mdata0\u001b[0m\u001b[1;33m)\u001b[0m\u001b[1;33m\u001b[0m\u001b[1;33m\u001b[0m\u001b[0m\n\u001b[0m\u001b[0;32m     15\u001b[0m     \u001b[1;32mif\u001b[0m \u001b[0mlen\u001b[0m\u001b[1;33m(\u001b[0m\u001b[0mdata\u001b[0m\u001b[1;33m)\u001b[0m \u001b[1;33m>\u001b[0m \u001b[0mfeed_samples\u001b[0m\u001b[1;33m:\u001b[0m\u001b[1;33m\u001b[0m\u001b[1;33m\u001b[0m\u001b[0m\n\u001b[0;32m     16\u001b[0m         \u001b[0mdata\u001b[0m \u001b[1;33m=\u001b[0m \u001b[0mdata\u001b[0m\u001b[1;33m[\u001b[0m\u001b[1;33m-\u001b[0m\u001b[0mfeed_samples\u001b[0m\u001b[1;33m:\u001b[0m\u001b[1;33m]\u001b[0m\u001b[1;33m\u001b[0m\u001b[1;33m\u001b[0m\u001b[0m\n",
      "\u001b[1;31mUnboundLocalError\u001b[0m: local variable 'data' referenced before assignment"
     ]
    }
   ],
   "source": [
    "import numpy as np\n",
    "import torch\n",
    "import matplotlib.pyplot as plt\n",
    "from models.model import BcResNetModel\n",
    "from utils.generals import trigger_word_detect, convet2logmel\n",
    "import pyaudio\n",
    "from queue import Queue\n",
    "import time\n",
    "\n",
    "\n",
    "def callback(in_data, frame_count, time_info, status):\n",
    "    global run, feed_samples, q, data\n",
    "    data0 = np.frombuffer(in_data, dtype='float32')\n",
    "    data = np.append(data, data0)\n",
    "    if len(data) > feed_samples:\n",
    "        data = data[-feed_samples:]\n",
    "        q.put(data)\n",
    "    return in_data, pyaudio.paContinue\n",
    "\n",
    "\n",
    "model = BcResNetModel(n_class=2, scale=1.5, dropout=0.1)\n",
    "device = \"cuda\" if torch.cuda.is_available() else \"cpu\"\n",
    "model = torch.nn.DataParallel(model).to(device)\n",
    "ckpt = torch.load(r\"D:\\LTGiang\\Intership\\RikkeiAI\\BC_ResNet_from_scratch\\weights\\checkpoint_best.pth.taz\", map_location=device)\n",
    "model.load_state_dict(ckpt[\"model\"])\n",
    "model.eval()\n",
    "\n",
    "chunk_duration = 0.1\n",
    "fs = 8000\n",
    "chunk_samples = int(fs * chunk_duration)\n",
    "feed_duration = 1.5\n",
    "feed_samples = int(fs * feed_duration)\n",
    "\n",
    "assert feed_duration / chunk_duration == int(feed_duration / chunk_duration)\n",
    "\n",
    "q = Queue()\n",
    "\n",
    "plot_prob = Queue()\n",
    "for i in range(50):\n",
    "    plot_prob.put(0.0)\n",
    "\n",
    "run = True\n",
    "timeout = time.time() + 3 * 60\n",
    "data = np.zeros(feed_samples, dtype='float32')\n",
    "\n",
    "fig, ax = plt.subplots(1, figsize=(15, 7))\n",
    "ax.set_title('Trigger word simulation')\n",
    "ax.set_xlabel('Time-line')\n",
    "ax.set_ylabel('Probability')\n",
    "ax.set_ylim(0, 1.0)\n",
    "stream = pyaudio.PyAudio().open(\n",
    "    format=pyaudio.paFloat32,\n",
    "    channels=1,\n",
    "    rate=fs,\n",
    "    input=True,\n",
    "    frames_per_buffer=chunk_samples,\n",
    "    input_device_index=0,\n",
    "    stream_callback=callback\n",
    ")\n",
    "line, = ax.plot(range(plot_prob.qsize()), list(plot_prob.queue), '-', lw=2)\n",
    "ax.plot(range(plot_prob.qsize()), [0.5 for _ in range(plot_prob.qsize())])\n",
    "ax.plot(range(plot_prob.qsize()), [1 for _ in range(plot_prob.qsize())])\n",
    "stream.start_stream()\n",
    "last = time.time()\n",
    "try:\n",
    "    while True:\n",
    "        data = torch.from_numpy(q.get().reshape(1, -1))\n",
    "        spectrum = convet2logmel(data, fs).unsqueeze(0)\n",
    "        preds, prob = trigger_word_detect(model, spectrum, device)\n",
    "        if preds:\n",
    "            if time.time() - last >= 2:\n",
    "                last = time.time()\n",
    "                plot_prob.put(prob)\n",
    "            else:\n",
    "                plot_prob.put(0.0)\n",
    "        else:\n",
    "            plot_prob.put(prob)\n",
    "        plot_prob.get()\n",
    "        line.set_ydata(list(plot_prob.queue))\n",
    "        fig.canvas.draw()\n",
    "        fig.canvas.flush_events()\n",
    "        plt.show()\n",
    "        if preds:\n",
    "            if time.time() - last == 2:\n",
    "                last = time.time()\n",
    "                # pass\n",
    "\n",
    "except (KeyboardInterrupt, SystemExit):\n",
    "    stream.stop_stream()\n",
    "    stream.close()\n",
    "    run = False\n"
   ]
  },
  {
   "cell_type": "code",
   "execution_count": null,
   "metadata": {},
   "outputs": [],
   "source": []
  }
 ],
 "metadata": {
  "kernelspec": {
   "display_name": "Python 3 (ipykernel)",
   "language": "python",
   "name": "python3"
  },
  "language_info": {
   "codemirror_mode": {
    "name": "ipython",
    "version": 3
   },
   "file_extension": ".py",
   "mimetype": "text/x-python",
   "name": "python",
   "nbconvert_exporter": "python",
   "pygments_lexer": "ipython3",
   "version": "3.9.7"
  }
 },
 "nbformat": 4,
 "nbformat_minor": 2
}
